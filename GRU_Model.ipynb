{
  "cells": [
    {
      "cell_type": "code",
      "execution_count": 1,
      "metadata": {
        "colab": {
          "base_uri": "https://localhost:8080/"
        },
        "id": "xXB5OGtCgRe3",
        "outputId": "c9f23e45-d606-4288-dac5-a3e2aaa2b881"
      },
      "outputs": [
        {
          "name": "stdout",
          "output_type": "stream",
          "text": [
            "2.11.0\n"
          ]
        },
        {
          "name": "stderr",
          "output_type": "stream",
          "text": [
            "[nltk_data] Downloading package stopwords to\n",
            "[nltk_data]     C:\\Users\\ahmed\\AppData\\Roaming\\nltk_data...\n",
            "[nltk_data]   Package stopwords is already up-to-date!\n",
            "[nltk_data] Downloading package punkt to\n",
            "[nltk_data]     C:\\Users\\ahmed\\AppData\\Roaming\\nltk_data...\n",
            "[nltk_data]   Package punkt is already up-to-date!\n"
          ]
        }
      ],
      "source": [
        "import pandas as pd\n",
        "import numpy as np\n",
        "import matplotlib.pyplot as plt\n",
        "from nltk.tokenize import word_tokenize\n",
        "from nltk.stem import WordNetLemmatizer\n",
        "from nltk.stem import PorterStemmer\n",
        "from tqdm import tqdm\n",
        "from keras.models import Sequential\n",
        "from keras.layers import LSTM, GRU\n",
        "from keras.layers.core import Dense, Activation, Dropout\n",
        "from keras.layers import Embedding\n",
        "from keras.layers import BatchNormalization\n",
        "from keras.utils import np_utils\n",
        "from keras.layers import GlobalMaxPooling1D, Conv1D, MaxPooling1D, Flatten, Bidirectional, SpatialDropout1D\n",
        "from sklearn.model_selection import train_test_split\n",
        "from keras.preprocessing import sequence\n",
        "from keras.utils import pad_sequences\n",
        "from keras.initializers import Constant\n",
        "from keras.preprocessing.text import Tokenizer\n",
        "from keras.callbacks import EarlyStopping\n",
        "import matplotlib.pyplot as plt\n",
        "import tensorflow as tf\n",
        "from keras import backend as K\n",
        "import gensim\n",
        "from preprocessing import preprocess\n",
        "import nltk\n",
        "import pickle\n",
        "nltk.download('punkt')\n",
        "print(tf.__version__)"
      ]
    },
    {
      "cell_type": "code",
      "execution_count": 2,
      "metadata": {
        "id": "wux8DTk9gRe8"
      },
      "outputs": [],
      "source": [
        "df_train = preprocess('2018-E-c-Ar-train.xlsx')\n",
        "df_test = preprocess('2018-E-c-Ar-test-gold.xlsx')"
      ]
    },
    {
      "cell_type": "code",
      "execution_count": 3,
      "metadata": {
        "id": "ih7bXg4IgRfA"
      },
      "outputs": [],
      "source": [
        "x_train = df_train[\"Tweet\"]\n",
        "y_train_pre = df_train.drop([\"ID\",\"Tweet\"],axis=1)\n",
        "x_test = df_test[\"Tweet\"]\n",
        "y_test_pre = df_test.drop([\"ID\",\"Tweet\"],axis=1)"
      ]
    },
    {
      "cell_type": "code",
      "execution_count": 4,
      "metadata": {
        "id": "Yyyfw96ygRfC"
      },
      "outputs": [],
      "source": [
        "y_train = np.asarray(y_train_pre.values.tolist())\n",
        "y_test = np.asarray(y_test_pre.values.tolist())"
      ]
    },
    {
      "cell_type": "code",
      "execution_count": 5,
      "metadata": {},
      "outputs": [],
      "source": [
        "t_model = gensim.models.Word2Vec.load('full_uni_sg_100_twitter/full_uni_sg_100_twitter.mdl')\n"
      ]
    },
    {
      "cell_type": "code",
      "execution_count": 6,
      "metadata": {
        "id": "zo8519WFgRfF"
      },
      "outputs": [],
      "source": [
        "EMBEDDING_DIMENSION = 100\n",
        "VOCABULARY_SIZE = 22000\n",
        "MAX_LENGTH = 26\n",
        "OOV_TOK = '<OOV>'\n",
        "TRUNCATE_TYPE = 'post'\n",
        "PADDING_TYPE = 'post'"
      ]
    },
    {
      "cell_type": "code",
      "execution_count": 7,
      "metadata": {
        "id": "2iMxpZQrgRfI"
      },
      "outputs": [],
      "source": [
        "# loading the tokenizer\n",
        "with open('tokenizer.pickle', 'rb') as handle:\n",
        "    tokenizer = pickle.load(handle)"
      ]
    },
    {
      "cell_type": "code",
      "execution_count": 8,
      "metadata": {
        "colab": {
          "base_uri": "https://localhost:8080/"
        },
        "id": "UgnftKy_gRfK",
        "outputId": "b28a24a6-08c5-42eb-b05c-dbaad0f6ccac"
      },
      "outputs": [
        {
          "name": "stdout",
          "output_type": "stream",
          "text": [
            "Vocabulary size: 21178\n"
          ]
        },
        {
          "data": {
            "text/plain": [
              "{'الله': 1,\n",
              " 'اللي': 2,\n",
              " 'انا': 3,\n",
              " 'مش': 4,\n",
              " 'ان': 5,\n",
              " 'والله': 6,\n",
              " 'مو': 7,\n",
              " 'الي': 8,\n",
              " 'شي': 9,\n",
              " 'الناس': 10}"
            ]
          },
          "execution_count": 8,
          "metadata": {},
          "output_type": "execute_result"
        }
      ],
      "source": [
        "xtrain_sequences = tokenizer.texts_to_sequences(x_train)\n",
        "xtest_sequences = tokenizer.texts_to_sequences(x_test)\n",
        "word_index = tokenizer.word_index\n",
        "print('Vocabulary size:', len(word_index))\n",
        "dict(list(word_index.items())[0:10])"
      ]
    },
    {
      "cell_type": "code",
      "execution_count": 9,
      "metadata": {},
      "outputs": [],
      "source": [
        "num_words = len(word_index)+1\n",
        "embedding_matrix = np.zeros((num_words,EMBEDDING_DIMENSION))\n",
        "\n",
        "for word,i in word_index.items():\n",
        "    if i > num_words:\n",
        "        continue\n",
        "    try:\n",
        "        embedding_vector = t_model.wv[word]\n",
        "        if embedding_vector is not None:\n",
        "            embedding_matrix[i] = embedding_vector\n",
        "    except: \n",
        "        continue\n"
      ]
    },
    {
      "cell_type": "code",
      "execution_count": 10,
      "metadata": {
        "colab": {
          "base_uri": "https://localhost:8080/"
        },
        "id": "wO12L9NugRfM",
        "outputId": "5d226833-fd25-4b20-c31b-599f0741881c"
      },
      "outputs": [
        {
          "name": "stdout",
          "output_type": "stream",
          "text": [
            "[119, 3312, 400, 124]\n"
          ]
        }
      ],
      "source": [
        "print(xtrain_sequences[100])"
      ]
    },
    {
      "cell_type": "code",
      "execution_count": 11,
      "metadata": {
        "colab": {
          "base_uri": "https://localhost:8080/"
        },
        "id": "fE7-6JU2gRfP",
        "outputId": "48badbfe-ede2-411a-e4a5-7c39c20438b8"
      },
      "outputs": [
        {
          "name": "stdout",
          "output_type": "stream",
          "text": [
            "20\n",
            "26\n",
            "[ 119 3312  400  124    0    0    0    0    0    0    0    0    0    0\n",
            "    0    0    0    0    0    0    0    0    0    0    0    0]\n"
          ]
        }
      ],
      "source": [
        "xtrain_pad = pad_sequences(xtrain_sequences, maxlen=MAX_LENGTH, padding=PADDING_TYPE, truncating=TRUNCATE_TYPE)\n",
        "xtest_pad = pad_sequences(xtest_sequences, maxlen=MAX_LENGTH, padding=PADDING_TYPE, truncating=TRUNCATE_TYPE)\n",
        "print(len(xtrain_sequences[0]))\n",
        "print(len(xtrain_pad[0]))\n",
        "print(xtrain_pad[100])"
      ]
    },
    {
      "cell_type": "code",
      "execution_count": 17,
      "metadata": {
        "id": "Awj8yWMugRfU"
      },
      "outputs": [
        {
          "name": "stdout",
          "output_type": "stream",
          "text": [
            "Epoch 1/10\n",
            "72/72 [==============================] - 13s 65ms/step - loss: 0.5077 - acc: 0.2384\n",
            "Epoch 2/10\n",
            "72/72 [==============================] - 5s 65ms/step - loss: 0.3983 - acc: 0.3946\n",
            "Epoch 3/10\n",
            "72/72 [==============================] - 5s 63ms/step - loss: 0.3470 - acc: 0.4811\n",
            "Epoch 4/10\n",
            "72/72 [==============================] - 5s 63ms/step - loss: 0.3108 - acc: 0.5193\n",
            "Epoch 5/10\n",
            "72/72 [==============================] - 5s 63ms/step - loss: 0.2847 - acc: 0.5615\n",
            "Epoch 6/10\n",
            "72/72 [==============================] - 4s 62ms/step - loss: 0.2628 - acc: 0.5716\n",
            "Epoch 7/10\n",
            "72/72 [==============================] - 4s 62ms/step - loss: 0.2342 - acc: 0.6317\n",
            "Epoch 8/10\n",
            "72/72 [==============================] - 5s 63ms/step - loss: 0.2135 - acc: 0.6225\n",
            "Epoch 9/10\n",
            "72/72 [==============================] - 5s 64ms/step - loss: 0.1964 - acc: 0.6264\n",
            "Epoch 10/10\n",
            "72/72 [==============================] - 5s 63ms/step - loss: 0.1771 - acc: 0.6172\n"
          ]
        }
      ],
      "source": [
        "# arr1 = [0.1,0.2,0.3,0.4,0.5,0.6,0.7,0.8,0.9]\n",
        "# arr2 = [0.1,0.2,0.3,0.4,0.5,0.6,0.7,0.8,0.9]\n",
        "# arr3 = [0.1,0.2,0.3,0.4,0.5,0.6,0.7,0.8,0.9]\n",
        "# arr4 = [0.1,0.2,0.3,0.4,0.5,0.6,0.7,0.8,0.9]\n",
        "# arr5 = [0.1,0.2,0.3,0.4,0.5,0.6,0.7,0.8,0.9]\n",
        "# bestSpatial = 0\n",
        "# bestlstmdrop = 0\n",
        "# bestlstmrecurrent = 0\n",
        "# bestdropout1 = 0\n",
        "# bestdropout2 = 0\n",
        "# bestAccuracy = 0\n",
        "# for i in arr1:\n",
        "#     for j in arr2:\n",
        "#         for k in arr3:\n",
        "#             for l in arr4:\n",
        "#                 for m in arr5:\n",
        "model = Sequential()\n",
        "model.add(Embedding(num_words,EMBEDDING_DIMENSION,embeddings_initializer=Constant(embedding_matrix),input_length=MAX_LENGTH))\n",
        "# model.add(SpatialDropout1D(0.1))\n",
        "model.add(Bidirectional(GRU(EMBEDDING_DIMENSION, dropout=0.3, recurrent_dropout=0.2)))\n",
        "model.add(Dense(EMBEDDING_DIMENSION, activation='relu'))\n",
        "model.add(Dropout(0.3))\n",
        "# model.add(Dense(EMBEDDING_DIMENSION, activation='relu'))\n",
        "# model.add(Dropout(0.4))\n",
        "model.add(Dense(11))\n",
        "model.add(Activation('softmax'))\n",
        "model.compile(loss='binary_crossentropy', optimizer='adam',metrics=['acc'])\n",
        "num_epochs = 10\n",
        "history = model.fit(xtrain_pad, y_train, epochs=num_epochs, verbose=1)\n",
        "                    # loss, accuracy = model.evaluate(xtest_pad, y_test, verbose=0)\n",
        "                    # if accuracy > bestAccuracy:\n",
        "                    #     bestAccuracy = accuracy\n",
        "                    #     bestSpatial = i\n",
        "                    #     bestlstmdrop = j\n",
        "                    #     bestlstmrecurrent = k\n",
        "                    #     bestdropout1 = l\n",
        "                    #     bestdropout2 = m\n"
      ]
    },
    {
      "cell_type": "code",
      "execution_count": 18,
      "metadata": {
        "colab": {
          "base_uri": "https://localhost:8080/"
        },
        "id": "b9wvvfAigRfW",
        "outputId": "d0732ece-ae6f-4ca5-fa8c-0c1e3ad7505b"
      },
      "outputs": [],
      "source": [
        "loss, accuracy = model.evaluate(xtest_pad, y_test, verbose=0)"
      ]
    },
    {
      "cell_type": "code",
      "execution_count": 19,
      "metadata": {
        "colab": {
          "base_uri": "https://localhost:8080/"
        },
        "id": "mfONF8gYgRfY",
        "outputId": "a2b02713-55e8-4630-e6ec-38a26b158497"
      },
      "outputs": [
        {
          "name": "stdout",
          "output_type": "stream",
          "text": [
            "Accuracy:  0.5289855003356934\n"
          ]
        }
      ],
      "source": [
        "print(\"Accuracy: \",accuracy)\n",
        "\n"
      ]
    },
    {
      "cell_type": "code",
      "execution_count": 20,
      "metadata": {},
      "outputs": [
        {
          "data": {
            "image/png": "[encoded data removed]",
            "text/plain": [
              "<IPython.core.display.Image object>"
            ]
          },
          "execution_count": 20,
          "metadata": {},
          "output_type": "execute_result"
        }
      ],
      "source": [
        "tf.keras.utils.plot_model(\n",
        "    model,\n",
        "    to_file='GRU_model.png',\n",
        "    show_shapes=True,\n",
        "    show_dtype=False,\n",
        "    show_layer_names=False,\n",
        "    rankdir='TB',\n",
        "    expand_nested=True,\n",
        "    dpi=96,\n",
        "    layer_range=None,\n",
        "    show_layer_activations=True\n",
        ")\n"
      ]
    },
    {
      "cell_type": "code",
      "execution_count": 22,
      "metadata": {
        "colab": {
          "base_uri": "https://localhost:8080/"
        },
        "id": "wyV5BTlItibD",
        "outputId": "d1942523-6b41-4e90-d9f3-fd194f44e236"
      },
      "outputs": [],
      "source": [
        "model.save(\"GRU_Model_Final.h5\")"
      ]
    }
  ],
  "metadata": {
    "colab": {
      "provenance": []
    },
    "kernelspec": {
      "display_name": "Python 3.9.13 ('base')",
      "language": "python",
      "name": "python3"
    },
    "language_info": {
      "codemirror_mode": {
        "name": "ipython",
        "version": 3
      },
      "file_extension": ".py",
      "mimetype": "text/x-python",
      "name": "python",
      "nbconvert_exporter": "python",
      "pygments_lexer": "ipython3",
      "version": "3.9.13"
    },
    "orig_nbformat": 4,
    "vscode": {
      "interpreter": {
        "hash": "88033ea6e6aaf353f3d26ef69434bb9b1f089d6b00d896155ae24c39a5d92896"
      }
    }
  },
  "nbformat": 4,
  "nbformat_minor": 0
}
