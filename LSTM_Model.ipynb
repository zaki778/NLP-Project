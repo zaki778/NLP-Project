{
  "cells": [
    {
      "cell_type": "code",
      "execution_count": 1,
      "metadata": {
        "colab": {
          "base_uri": "https://localhost:8080/"
        },
        "id": "xXB5OGtCgRe3",
        "outputId": "c9f23e45-d606-4288-dac5-a3e2aaa2b881"
      },
      "outputs": [
        {
          "name": "stdout",
          "output_type": "stream",
          "text": [
            "2.11.0\n"
          ]
        },
        {
          "name": "stderr",
          "output_type": "stream",
          "text": [
            "[nltk_data] Downloading package stopwords to\n",
            "[nltk_data]     C:\\Users\\ahmed\\AppData\\Roaming\\nltk_data...\n",
            "[nltk_data]   Package stopwords is already up-to-date!\n",
            "[nltk_data] Downloading package punkt to\n",
            "[nltk_data]     C:\\Users\\ahmed\\AppData\\Roaming\\nltk_data...\n",
            "[nltk_data]   Package punkt is already up-to-date!\n"
          ]
        }
      ],
      "source": [
        "import pandas as pd\n",
        "import numpy as np\n",
        "import matplotlib.pyplot as plt\n",
        "from nltk.tokenize import word_tokenize\n",
        "from nltk.stem import WordNetLemmatizer\n",
        "from nltk.stem import PorterStemmer\n",
        "from tqdm import tqdm\n",
        "from keras.models import Sequential\n",
        "from keras.layers import LSTM, GRU\n",
        "from keras.layers.core import Dense, Activation, Dropout\n",
        "from keras.layers import Embedding\n",
        "from keras.layers import BatchNormalization\n",
        "from keras.utils import np_utils\n",
        "from keras.layers import GlobalMaxPooling1D, Conv1D, MaxPooling1D, Flatten, Bidirectional, SpatialDropout1D\n",
        "from sklearn.model_selection import train_test_split\n",
        "from keras.preprocessing import sequence\n",
        "from keras.utils import pad_sequences\n",
        "from keras.initializers import Constant\n",
        "from keras.preprocessing.text import Tokenizer\n",
        "from keras.callbacks import EarlyStopping\n",
        "import matplotlib.pyplot as plt\n",
        "import tensorflow as tf\n",
        "from keras import backend as K\n",
        "from keras.models import load_model\n",
        "import gensim\n",
        "import pickle\n",
        "from preprocessing import preprocess\n",
        "import nltk\n",
        "nltk.download('punkt')\n",
        "print(tf.__version__)"
      ]
    },
    {
      "cell_type": "code",
      "execution_count": 2,
      "metadata": {
        "id": "wux8DTk9gRe8"
      },
      "outputs": [],
      "source": [
        "df_train = preprocess('2018-E-c-Ar-train.xlsx')\n",
        "df_test = preprocess('2018-E-c-Ar-test-gold.xlsx')"
      ]
    },
    {
      "cell_type": "code",
      "execution_count": 3,
      "metadata": {
        "id": "ih7bXg4IgRfA"
      },
      "outputs": [],
      "source": [
        "x_train = df_train[\"Tweet\"]\n",
        "y_train_pre = df_train.drop([\"ID\",\"Tweet\"],axis=1)\n",
        "x_test = df_test[\"Tweet\"]\n",
        "y_test_pre = df_test.drop([\"ID\",\"Tweet\"],axis=1)"
      ]
    },
    {
      "cell_type": "code",
      "execution_count": 4,
      "metadata": {
        "id": "Yyyfw96ygRfC"
      },
      "outputs": [],
      "source": [
        "y_train = np.asarray(y_train_pre.values.tolist())\n",
        "y_test = np.asarray(y_test_pre.values.tolist())"
      ]
    },
    {
      "cell_type": "code",
      "execution_count": 5,
      "metadata": {},
      "outputs": [],
      "source": [
        "t_model = gensim.models.Word2Vec.load('full_uni_sg_100_twitter/full_uni_sg_100_twitter.mdl')\n"
      ]
    },
    {
      "cell_type": "code",
      "execution_count": 6,
      "metadata": {
        "id": "zo8519WFgRfF"
      },
      "outputs": [],
      "source": [
        "EMBEDDING_DIMENSION = 100\n",
        "VOCABULARY_SIZE = 22000\n",
        "MAX_LENGTH = 26\n",
        "OOV_TOK = '<OOV>'\n",
        "TRUNCATE_TYPE = 'post'\n",
        "PADDING_TYPE = 'post'"
      ]
    },
    {
      "cell_type": "code",
      "execution_count": 7,
      "metadata": {
        "id": "2iMxpZQrgRfI"
      },
      "outputs": [],
      "source": [
        "tokenizer = Tokenizer(num_words=VOCABULARY_SIZE)\n",
        "tokenizer.fit_on_texts(list(x_train) + list(x_test))"
      ]
    },
    {
      "cell_type": "code",
      "execution_count": 8,
      "metadata": {},
      "outputs": [],
      "source": [
        "# saving the tokenizer\n",
        "with open('tokenizer.pickle', 'wb') as handle:\n",
        "    pickle.dump(tokenizer, handle, protocol=pickle.HIGHEST_PROTOCOL)"
      ]
    },
    {
      "cell_type": "code",
      "execution_count": 9,
      "metadata": {
        "colab": {
          "base_uri": "https://localhost:8080/"
        },
        "id": "UgnftKy_gRfK",
        "outputId": "b28a24a6-08c5-42eb-b05c-dbaad0f6ccac"
      },
      "outputs": [
        {
          "name": "stdout",
          "output_type": "stream",
          "text": [
            "Vocabulary size: 21178\n"
          ]
        },
        {
          "data": {
            "text/plain": [
              "{'الله': 1,\n",
              " 'اللي': 2,\n",
              " 'انا': 3,\n",
              " 'مش': 4,\n",
              " 'ان': 5,\n",
              " 'والله': 6,\n",
              " 'مو': 7,\n",
              " 'الي': 8,\n",
              " 'شي': 9,\n",
              " 'الناس': 10}"
            ]
          },
          "execution_count": 9,
          "metadata": {},
          "output_type": "execute_result"
        }
      ],
      "source": [
        "xtrain_sequences = tokenizer.texts_to_sequences(x_train)\n",
        "xtest_sequences = tokenizer.texts_to_sequences(x_test)\n",
        "word_index = tokenizer.word_index\n",
        "print('Vocabulary size:', len(word_index))\n",
        "dict(list(word_index.items())[0:10])"
      ]
    },
    {
      "cell_type": "code",
      "execution_count": 10,
      "metadata": {},
      "outputs": [],
      "source": [
        "num_words = len(word_index)+1\n",
        "embedding_matrix = np.zeros((num_words,EMBEDDING_DIMENSION))\n",
        "\n",
        "for word,i in word_index.items():\n",
        "    if i > num_words:\n",
        "        continue\n",
        "    try:\n",
        "        embedding_vector = t_model.wv[word]\n",
        "        if embedding_vector is not None:\n",
        "            embedding_matrix[i] = embedding_vector\n",
        "    except: \n",
        "        continue\n"
      ]
    },
    {
      "cell_type": "code",
      "execution_count": 11,
      "metadata": {
        "colab": {
          "base_uri": "https://localhost:8080/"
        },
        "id": "wO12L9NugRfM",
        "outputId": "5d226833-fd25-4b20-c31b-599f0741881c"
      },
      "outputs": [
        {
          "name": "stdout",
          "output_type": "stream",
          "text": [
            "[119, 3312, 400, 124]\n"
          ]
        }
      ],
      "source": [
        "print(xtrain_sequences[100])"
      ]
    },
    {
      "cell_type": "code",
      "execution_count": 12,
      "metadata": {
        "colab": {
          "base_uri": "https://localhost:8080/"
        },
        "id": "fE7-6JU2gRfP",
        "outputId": "48badbfe-ede2-411a-e4a5-7c39c20438b8"
      },
      "outputs": [
        {
          "name": "stdout",
          "output_type": "stream",
          "text": [
            "20\n",
            "26\n",
            "[ 119 3312  400  124    0    0    0    0    0    0    0    0    0    0\n",
            "    0    0    0    0    0    0    0    0    0    0    0    0]\n"
          ]
        }
      ],
      "source": [
        "xtrain_pad = pad_sequences(xtrain_sequences, maxlen=MAX_LENGTH, padding=PADDING_TYPE, truncating=TRUNCATE_TYPE)\n",
        "xtest_pad = pad_sequences(xtest_sequences, maxlen=MAX_LENGTH, padding=PADDING_TYPE, truncating=TRUNCATE_TYPE)\n",
        "print(len(xtrain_sequences[0]))\n",
        "print(len(xtrain_pad[0]))\n",
        "print(xtrain_pad[100])"
      ]
    },
    {
      "cell_type": "code",
      "execution_count": 22,
      "metadata": {
        "id": "Awj8yWMugRfU"
      },
      "outputs": [
        {
          "name": "stdout",
          "output_type": "stream",
          "text": [
            "Epoch 1/20\n",
            "72/72 [==============================] - 14s 83ms/step - loss: 0.4774 - acc: 0.3051\n",
            "Epoch 2/20\n",
            "72/72 [==============================] - 6s 85ms/step - loss: 0.3879 - acc: 0.4162\n",
            "Epoch 3/20\n",
            "72/72 [==============================] - 6s 86ms/step - loss: 0.3432 - acc: 0.4614\n",
            "Epoch 4/20\n",
            "72/72 [==============================] - 6s 90ms/step - loss: 0.3087 - acc: 0.5061\n",
            "Epoch 5/20\n",
            "72/72 [==============================] - 8s 111ms/step - loss: 0.2809 - acc: 0.5588\n",
            "Epoch 6/20\n",
            "72/72 [==============================] - 11s 153ms/step - loss: 0.2552 - acc: 0.5830\n",
            "Epoch 7/20\n",
            "72/72 [==============================] - 7s 95ms/step - loss: 0.2329 - acc: 0.5917\n",
            "Epoch 8/20\n",
            "72/72 [==============================] - 6s 88ms/step - loss: 0.2105 - acc: 0.6027\n",
            "Epoch 9/20\n",
            "72/72 [==============================] - 6s 89ms/step - loss: 0.1881 - acc: 0.5988\n",
            "Epoch 10/20\n",
            "72/72 [==============================] - 6s 89ms/step - loss: 0.1748 - acc: 0.6001\n",
            "Epoch 11/20\n",
            "72/72 [==============================] - 7s 92ms/step - loss: 0.1561 - acc: 0.6040\n",
            "Epoch 12/20\n",
            "72/72 [==============================] - 8s 113ms/step - loss: 0.1423 - acc: 0.6080\n",
            "Epoch 13/20\n",
            "72/72 [==============================] - 11s 154ms/step - loss: 0.1245 - acc: 0.6115\n",
            "Epoch 14/20\n",
            "72/72 [==============================] - 11s 154ms/step - loss: 0.1123 - acc: 0.6045\n",
            "Epoch 15/20\n",
            "72/72 [==============================] - 11s 150ms/step - loss: 0.1026 - acc: 0.6014\n",
            "Epoch 16/20\n",
            "72/72 [==============================] - 9s 118ms/step - loss: 0.0909 - acc: 0.6058\n",
            "Epoch 17/20\n",
            "72/72 [==============================] - 9s 132ms/step - loss: 0.0791 - acc: 0.5935\n",
            "Epoch 18/20\n",
            "72/72 [==============================] - 9s 130ms/step - loss: 0.0735 - acc: 0.5878\n",
            "Epoch 19/20\n",
            "72/72 [==============================] - 10s 134ms/step - loss: 0.0648 - acc: 0.5917\n",
            "Epoch 20/20\n",
            "72/72 [==============================] - 9s 119ms/step - loss: 0.0561 - acc: 0.6010\n"
          ]
        }
      ],
      "source": [
        "# arr1 = [0.1,0.2,0.3,0.4,0.5,0.6,0.7,0.8,0.9]\n",
        "# arr2 = [0.1,0.2,0.3,0.4,0.5,0.6,0.7,0.8,0.9]\n",
        "# arr3 = [0.1,0.2,0.3,0.4,0.5,0.6,0.7,0.8,0.9]\n",
        "# arr4 = [0.1,0.2,0.3,0.4,0.5,0.6,0.7,0.8,0.9]\n",
        "# arr5 = [0.1,0.2,0.3,0.4,0.5,0.6,0.7,0.8,0.9]\n",
        "# bestSpatial = 0\n",
        "# bestlstmdrop = 0\n",
        "# bestlstmrecurrent = 0\n",
        "# bestdropout1 = 0\n",
        "# bestdropout2 = 0\n",
        "# bestAccuracy = 0\n",
        "# for i in arr1:\n",
        "#     for j in arr2:\n",
        "#         for k in arr3:\n",
        "#             for l in arr4:\n",
        "#                 for m in arr5:\n",
        "model = Sequential()\n",
        "model.add(Embedding(num_words,EMBEDDING_DIMENSION,embeddings_initializer=Constant(embedding_matrix),input_length=MAX_LENGTH))\n",
        "# model.add(SpatialDropout1D(0.1))\n",
        "model.add(Bidirectional(LSTM(EMBEDDING_DIMENSION, dropout=0.3, recurrent_dropout=0.2)))\n",
        "model.add(Dense(EMBEDDING_DIMENSION, activation='relu'))\n",
        "model.add(Dropout(0.3))\n",
        "# model.add(Dense(EMBEDDING_DIMENSION, activation='relu'))\n",
        "# model.add(Dropout(0.4))\n",
        "model.add(Dense(11))\n",
        "model.add(Activation('sigmoid'))\n",
        "model.compile(loss='binary_crossentropy', optimizer='adam',metrics=['acc'])\n",
        "num_epochs = 20\n",
        "history = model.fit(xtrain_pad, y_train, epochs=num_epochs, verbose=1)\n",
        "                    # loss, accuracy = model.evaluate(xtest_pad, y_test, verbose=0)\n",
        "                    # if accuracy > bestAccuracy:\n",
        "                    #     bestAccuracy = accuracy\n",
        "                    #     bestSpatial = i\n",
        "                    #     bestlstmdrop = j\n",
        "                    #     bestlstmrecurrent = k\n",
        "                    #     bestdropout1 = l\n",
        "                    #     bestdropout2 = m\n"
      ]
    },
    {
      "cell_type": "code",
      "execution_count": 23,
      "metadata": {
        "colab": {
          "base_uri": "https://localhost:8080/"
        },
        "id": "b9wvvfAigRfW",
        "outputId": "d0732ece-ae6f-4ca5-fa8c-0c1e3ad7505b"
      },
      "outputs": [],
      "source": [
        "loss, accuracy = model.evaluate(xtest_pad, y_test, verbose=0)"
      ]
    },
    {
      "cell_type": "code",
      "execution_count": 24,
      "metadata": {
        "colab": {
          "base_uri": "https://localhost:8080/"
        },
        "id": "mfONF8gYgRfY",
        "outputId": "a2b02713-55e8-4630-e6ec-38a26b158497"
      },
      "outputs": [
        {
          "name": "stdout",
          "output_type": "stream",
          "text": [
            "Accuracy:  0.47167325019836426\n"
          ]
        }
      ],
      "source": [
        "print(\"Accuracy: \",accuracy)\n"
      ]
    },
    {
      "cell_type": "code",
      "execution_count": 25,
      "metadata": {},
      "outputs": [
        {
          "data": {
            "image/png": "[encoded data removed]",
            "text/plain": [
              "<IPython.core.display.Image object>"
            ]
          },
          "execution_count": 25,
          "metadata": {},
          "output_type": "execute_result"
        }
      ],
      "source": [
        "tf.keras.utils.plot_model(\n",
        "    model,\n",
        "    to_file='lstm_model.png',\n",
        "    show_shapes=True,\n",
        "    show_dtype=False,\n",
        "    show_layer_names=False,\n",
        "    rankdir='TB',\n",
        "    expand_nested=True,\n",
        "    dpi=96,\n",
        "    layer_range=None,\n",
        "    show_layer_activations=True\n",
        ")\n"
      ]
    },
    {
      "cell_type": "code",
      "execution_count": 26,
      "metadata": {
        "colab": {
          "base_uri": "https://localhost:8080/"
        },
        "id": "wyV5BTlItibD",
        "outputId": "d1942523-6b41-4e90-d9f3-fd194f44e236"
      },
      "outputs": [],
      "source": [
        "model.save(\"LSTM_Model.h5\")"
      ]
    }
  ],
  "metadata": {
    "colab": {
      "provenance": []
    },
    "kernelspec": {
      "display_name": "Python 3.9.13 ('base')",
      "language": "python",
      "name": "python3"
    },
    "language_info": {
      "codemirror_mode": {
        "name": "ipython",
        "version": 3
      },
      "file_extension": ".py",
      "mimetype": "text/x-python",
      "name": "python",
      "nbconvert_exporter": "python",
      "pygments_lexer": "ipython3",
      "version": "3.9.13"
    },
    "orig_nbformat": 4,
    "vscode": {
      "interpreter": {
        "hash": "88033ea6e6aaf353f3d26ef69434bb9b1f089d6b00d896155ae24c39a5d92896"
      }
    }
  },
  "nbformat": 4,
  "nbformat_minor": 0
}
