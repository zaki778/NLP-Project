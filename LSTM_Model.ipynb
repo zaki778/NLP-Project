{
  "cells": [
    {
      "cell_type": "code",
      "execution_count": 62,
      "metadata": {
        "colab": {
          "base_uri": "https://localhost:8080/"
        },
        "id": "xXB5OGtCgRe3",
        "outputId": "c9f23e45-d606-4288-dac5-a3e2aaa2b881"
      },
      "outputs": [
        {
          "name": "stdout",
          "output_type": "stream",
          "text": [
            "2.11.0\n"
          ]
        },
        {
          "name": "stderr",
          "output_type": "stream",
          "text": [
            "[nltk_data] Downloading package punkt to\n",
            "[nltk_data]     C:\\Users\\ahmed\\AppData\\Roaming\\nltk_data...\n",
            "[nltk_data]   Package punkt is already up-to-date!\n"
          ]
        }
      ],
      "source": [
        "import pandas as pd\n",
        "import numpy as np\n",
        "import matplotlib.pyplot as plt\n",
        "from nltk.tokenize import word_tokenize\n",
        "from nltk.stem import WordNetLemmatizer\n",
        "from nltk.stem import PorterStemmer\n",
        "from tqdm import tqdm\n",
        "from keras.models import Sequential\n",
        "from keras.layers import LSTM, GRU\n",
        "from keras.layers.core import Dense, Activation, Dropout\n",
        "from keras.layers import Embedding\n",
        "from keras.layers import BatchNormalization\n",
        "from keras.utils import np_utils\n",
        "from keras.layers import GlobalMaxPooling1D, Conv1D, MaxPooling1D, Flatten, Bidirectional, SpatialDropout1D\n",
        "from sklearn.model_selection import train_test_split\n",
        "from keras.preprocessing import sequence\n",
        "from keras.utils import pad_sequences\n",
        "from keras.initializers import Constant\n",
        "from keras.preprocessing.text import Tokenizer\n",
        "from keras.callbacks import EarlyStopping\n",
        "import matplotlib.pyplot as plt\n",
        "import tensorflow as tf\n",
        "from keras import backend as K\n",
        "from keras.models import load_model\n",
        "import gensim\n",
        "from preprocessing import preprocess\n",
        "import nltk\n",
        "nltk.download('punkt')\n",
        "print(tf.__version__)"
      ]
    },
    {
      "cell_type": "code",
      "execution_count": 69,
      "metadata": {
        "id": "wux8DTk9gRe8"
      },
      "outputs": [],
      "source": [
        "df_train = preprocess('2018-E-c-Ar-train.xlsx')\n",
        "df_test = preprocess('2018-E-c-Ar-test-gold.xlsx')"
      ]
    },
    {
      "cell_type": "code",
      "execution_count": 70,
      "metadata": {
        "id": "ih7bXg4IgRfA"
      },
      "outputs": [],
      "source": [
        "x_train = df_train[\"Tweet\"]\n",
        "y_train_pre = df_train.drop([\"ID\",\"Tweet\"],axis=1)\n",
        "x_test = df_test[\"Tweet\"]\n",
        "y_test_pre = df_test.drop([\"ID\",\"Tweet\"],axis=1)"
      ]
    },
    {
      "cell_type": "code",
      "execution_count": 4,
      "metadata": {
        "id": "Yyyfw96ygRfC"
      },
      "outputs": [],
      "source": [
        "y_train = np.asarray(y_train_pre.values.tolist())\n",
        "y_test = np.asarray(y_test_pre.values.tolist())"
      ]
    },
    {
      "cell_type": "code",
      "execution_count": 68,
      "metadata": {},
      "outputs": [],
      "source": [
        "t_model = gensim.models.Word2Vec.load('full_uni_sg_100_twitter/full_uni_sg_100_twitter.mdl')\n"
      ]
    },
    {
      "cell_type": "code",
      "execution_count": 71,
      "metadata": {
        "id": "zo8519WFgRfF"
      },
      "outputs": [],
      "source": [
        "EMBEDDING_DIMENSION = 100\n",
        "VOCABULARY_SIZE = 22000\n",
        "MAX_LENGTH = 26\n",
        "OOV_TOK = '<OOV>'\n",
        "TRUNCATE_TYPE = 'post'\n",
        "PADDING_TYPE = 'post'"
      ]
    },
    {
      "cell_type": "code",
      "execution_count": 72,
      "metadata": {
        "id": "2iMxpZQrgRfI"
      },
      "outputs": [],
      "source": [
        "tokenizer = Tokenizer(num_words=VOCABULARY_SIZE)\n",
        "tokenizer.fit_on_texts(list(x_train) + list(x_test))"
      ]
    },
    {
      "cell_type": "code",
      "execution_count": 73,
      "metadata": {
        "colab": {
          "base_uri": "https://localhost:8080/"
        },
        "id": "UgnftKy_gRfK",
        "outputId": "b28a24a6-08c5-42eb-b05c-dbaad0f6ccac"
      },
      "outputs": [
        {
          "name": "stdout",
          "output_type": "stream",
          "text": [
            "Vocabulary size: 21178\n"
          ]
        },
        {
          "data": {
            "text/plain": [
              "{'الله': 1,\n",
              " 'اللي': 2,\n",
              " 'انا': 3,\n",
              " 'مش': 4,\n",
              " 'ان': 5,\n",
              " 'والله': 6,\n",
              " 'مو': 7,\n",
              " 'الي': 8,\n",
              " 'شي': 9,\n",
              " 'الناس': 10}"
            ]
          },
          "execution_count": 73,
          "metadata": {},
          "output_type": "execute_result"
        }
      ],
      "source": [
        "xtrain_sequences = tokenizer.texts_to_sequences(x_train)\n",
        "xtest_sequences = tokenizer.texts_to_sequences(x_test)\n",
        "word_index = tokenizer.word_index\n",
        "print('Vocabulary size:', len(word_index))\n",
        "dict(list(word_index.items())[0:10])"
      ]
    },
    {
      "cell_type": "code",
      "execution_count": 74,
      "metadata": {},
      "outputs": [],
      "source": [
        "num_words = len(word_index)+1\n",
        "embedding_matrix = np.zeros((num_words,EMBEDDING_DIMENSION))\n",
        "\n",
        "for word,i in word_index.items():\n",
        "    if i > num_words:\n",
        "        continue\n",
        "    try:\n",
        "        embedding_vector = t_model.wv[word]\n",
        "        if embedding_vector is not None:\n",
        "            embedding_matrix[i] = embedding_vector\n",
        "    except: \n",
        "        continue\n"
      ]
    },
    {
      "cell_type": "code",
      "execution_count": 75,
      "metadata": {
        "colab": {
          "base_uri": "https://localhost:8080/"
        },
        "id": "wO12L9NugRfM",
        "outputId": "5d226833-fd25-4b20-c31b-599f0741881c"
      },
      "outputs": [
        {
          "name": "stdout",
          "output_type": "stream",
          "text": [
            "[119, 3312, 400, 124]\n"
          ]
        }
      ],
      "source": [
        "print(xtrain_sequences[100])"
      ]
    },
    {
      "cell_type": "code",
      "execution_count": 76,
      "metadata": {
        "colab": {
          "base_uri": "https://localhost:8080/"
        },
        "id": "fE7-6JU2gRfP",
        "outputId": "48badbfe-ede2-411a-e4a5-7c39c20438b8"
      },
      "outputs": [
        {
          "name": "stdout",
          "output_type": "stream",
          "text": [
            "20\n",
            "26\n",
            "[ 119 3312  400  124    0    0    0    0    0    0    0    0    0    0\n",
            "    0    0    0    0    0    0    0    0    0    0    0    0]\n"
          ]
        }
      ],
      "source": [
        "xtrain_pad = pad_sequences(xtrain_sequences, maxlen=MAX_LENGTH, padding=PADDING_TYPE, truncating=TRUNCATE_TYPE)\n",
        "xtest_pad = pad_sequences(xtest_sequences, maxlen=MAX_LENGTH, padding=PADDING_TYPE, truncating=TRUNCATE_TYPE)\n",
        "print(len(xtrain_sequences[0]))\n",
        "print(len(xtrain_pad[0]))\n",
        "print(xtrain_pad[100])"
      ]
    },
    {
      "cell_type": "code",
      "execution_count": 77,
      "metadata": {
        "id": "vPP6hWoKgRfS"
      },
      "outputs": [],
      "source": [
        "def recall_m(y_true, y_pred):\n",
        "    true_positives = K.sum(K.round(K.clip(y_true * y_pred, 0, 1)))\n",
        "    possible_positives = K.sum(K.round(K.clip(y_true, 0, 1)))\n",
        "    recall = true_positives / (possible_positives + K.epsilon())\n",
        "    return recall\n",
        "\n",
        "def precision_m(y_true, y_pred):\n",
        "    true_positives = K.sum(K.round(K.clip(y_true * y_pred, 0, 1)))\n",
        "    predicted_positives = K.sum(K.round(K.clip(y_pred, 0, 1)))\n",
        "    precision = true_positives / (predicted_positives + K.epsilon())\n",
        "    return precision\n",
        "\n",
        "def f1_m(y_true, y_pred):\n",
        "    precision = precision_m(y_true, y_pred)\n",
        "    recall = recall_m(y_true, y_pred)\n",
        "    return 2*((precision*recall)/(precision+recall+K.epsilon()))"
      ]
    },
    {
      "cell_type": "code",
      "execution_count": 79,
      "metadata": {
        "id": "Awj8yWMugRfU"
      },
      "outputs": [
        {
          "name": "stdout",
          "output_type": "stream",
          "text": [
            "Epoch 1/20\n",
            "72/72 [==============================] - 45s 522ms/step - loss: 0.4690 - acc: 0.3521 - f1_m: 0.0209 - precision_m: 0.1898 - recall_m: 0.0113\n",
            "Epoch 2/20\n",
            "72/72 [==============================] - 39s 540ms/step - loss: 0.3648 - acc: 0.4561 - f1_m: 0.1897 - precision_m: 0.8204 - recall_m: 0.1092\n",
            "Epoch 3/20\n",
            "72/72 [==============================] - 38s 526ms/step - loss: 0.3230 - acc: 0.5219 - f1_m: 0.2928 - precision_m: 0.8798 - recall_m: 0.1773\n",
            "Epoch 4/20\n",
            "72/72 [==============================] - 38s 523ms/step - loss: 0.2859 - acc: 0.5847 - f1_m: 0.3954 - precision_m: 0.9090 - recall_m: 0.2539\n",
            "Epoch 5/20\n",
            "72/72 [==============================] - 39s 537ms/step - loss: 0.2573 - acc: 0.6036 - f1_m: 0.4489 - precision_m: 0.9217 - recall_m: 0.2984\n",
            "Epoch 6/20\n",
            "72/72 [==============================] - 36s 494ms/step - loss: 0.2289 - acc: 0.6299 - f1_m: 0.5016 - precision_m: 0.9481 - recall_m: 0.3419\n",
            "Epoch 7/20\n",
            "72/72 [==============================] - 36s 496ms/step - loss: 0.2041 - acc: 0.6242 - f1_m: 0.5278 - precision_m: 0.9624 - recall_m: 0.3647\n",
            "Epoch 8/20\n",
            "72/72 [==============================] - 34s 470ms/step - loss: 0.1862 - acc: 0.6308 - f1_m: 0.5389 - precision_m: 0.9678 - recall_m: 0.3745\n",
            "Epoch 9/20\n",
            "72/72 [==============================] - 30s 424ms/step - loss: 0.1653 - acc: 0.6277 - f1_m: 0.5604 - precision_m: 0.9713 - recall_m: 0.3947\n",
            "Epoch 10/20\n",
            "72/72 [==============================] - 38s 527ms/step - loss: 0.1439 - acc: 0.6335 - f1_m: 0.5695 - precision_m: 0.9773 - recall_m: 0.4025\n",
            "Epoch 11/20\n",
            "72/72 [==============================] - 39s 537ms/step - loss: 0.1238 - acc: 0.6247 - f1_m: 0.5820 - precision_m: 0.9848 - recall_m: 0.4138\n",
            "Epoch 12/20\n",
            "72/72 [==============================] - 38s 525ms/step - loss: 0.1106 - acc: 0.6076 - f1_m: 0.5842 - precision_m: 0.9858 - recall_m: 0.4160\n",
            "Epoch 13/20\n",
            "72/72 [==============================] - 38s 533ms/step - loss: 0.0940 - acc: 0.6168 - f1_m: 0.5888 - precision_m: 0.9883 - recall_m: 0.4203\n",
            "Epoch 14/20\n",
            "72/72 [==============================] - 37s 520ms/step - loss: 0.0767 - acc: 0.6058 - f1_m: 0.5927 - precision_m: 0.9892 - recall_m: 0.4240\n",
            "Epoch 15/20\n",
            "72/72 [==============================] - 38s 529ms/step - loss: 0.0704 - acc: 0.6190 - f1_m: 0.5905 - precision_m: 0.9874 - recall_m: 0.4222\n",
            "Epoch 16/20\n",
            "72/72 [==============================] - 37s 509ms/step - loss: 0.0551 - acc: 0.6111 - f1_m: 0.5939 - precision_m: 0.9945 - recall_m: 0.4242\n",
            "Epoch 17/20\n",
            "72/72 [==============================] - 22s 299ms/step - loss: 0.0505 - acc: 0.6326 - f1_m: 0.5944 - precision_m: 0.9905 - recall_m: 0.4254\n",
            "Epoch 18/20\n",
            "72/72 [==============================] - 41s 569ms/step - loss: 0.0397 - acc: 0.6010 - f1_m: 0.5983 - precision_m: 0.9951 - recall_m: 0.4285\n",
            "Epoch 19/20\n",
            "72/72 [==============================] - 41s 573ms/step - loss: 0.0343 - acc: 0.6137 - f1_m: 0.5998 - precision_m: 0.9943 - recall_m: 0.4304\n",
            "Epoch 20/20\n",
            "72/72 [==============================] - 39s 540ms/step - loss: 0.0275 - acc: 0.6137 - f1_m: 0.6014 - precision_m: 0.9929 - recall_m: 0.4321\n"
          ]
        }
      ],
      "source": [
        "# arr1 = [0.1,0.2,0.3,0.4,0.5,0.6,0.7,0.8,0.9]\n",
        "# arr2 = [0.1,0.2,0.3,0.4,0.5,0.6,0.7,0.8,0.9]\n",
        "# arr3 = [0.1,0.2,0.3,0.4,0.5,0.6,0.7,0.8,0.9]\n",
        "# arr4 = [0.1,0.2,0.3,0.4,0.5,0.6,0.7,0.8,0.9]\n",
        "# arr5 = [0.1,0.2,0.3,0.4,0.5,0.6,0.7,0.8,0.9]\n",
        "# bestSpatial = 0\n",
        "# bestlstmdrop = 0\n",
        "# bestlstmrecurrent = 0\n",
        "# bestdropout1 = 0\n",
        "# bestdropout2 = 0\n",
        "# bestAccuracy = 0\n",
        "# for i in arr1:\n",
        "#     for j in arr2:\n",
        "#         for k in arr3:\n",
        "#             for l in arr4:\n",
        "#                 for m in arr5:\n",
        "model = Sequential()\n",
        "model.add(Embedding(num_words,EMBEDDING_DIMENSION,embeddings_initializer=Constant(embedding_matrix),input_length=MAX_LENGTH))\n",
        "# model.add(SpatialDropout1D(0.1))\n",
        "model.add(Bidirectional(LSTM(EMBEDDING_DIMENSION, dropout=0.3, recurrent_dropout=0.2)))\n",
        "model.add(Dense(EMBEDDING_DIMENSION, activation='relu'))\n",
        "# model.add(Dropout(0.3))\n",
        "# model.add(Dense(EMBEDDING_DIMENSION, activation='relu'))\n",
        "# model.add(Dropout(0.4))\n",
        "model.add(Dense(11))\n",
        "model.add(Activation('softmax'))\n",
        "model.compile(loss='binary_crossentropy', optimizer='adam',metrics=['acc',f1_m,precision_m,recall_m])\n",
        "num_epochs = 20\n",
        "history = model.fit(xtrain_pad, y_train, epochs=num_epochs, verbose=1)\n",
        "                    # loss, accuracy = model.evaluate(xtest_pad, y_test, verbose=0)\n",
        "                    # if accuracy > bestAccuracy:\n",
        "                    #     bestAccuracy = accuracy\n",
        "                    #     bestSpatial = i\n",
        "                    #     bestlstmdrop = j\n",
        "                    #     bestlstmrecurrent = k\n",
        "                    #     bestdropout1 = l\n",
        "                    #     bestdropout2 = m\n"
      ]
    },
    {
      "cell_type": "code",
      "execution_count": 80,
      "metadata": {
        "colab": {
          "base_uri": "https://localhost:8080/"
        },
        "id": "b9wvvfAigRfW",
        "outputId": "d0732ece-ae6f-4ca5-fa8c-0c1e3ad7505b"
      },
      "outputs": [],
      "source": [
        "loss, accuracy, f1, precision, recall = model.evaluate(xtest_pad, y_test, verbose=0)"
      ]
    },
    {
      "cell_type": "code",
      "execution_count": 81,
      "metadata": {
        "colab": {
          "base_uri": "https://localhost:8080/"
        },
        "id": "mfONF8gYgRfY",
        "outputId": "a2b02713-55e8-4630-e6ec-38a26b158497"
      },
      "outputs": [
        {
          "name": "stdout",
          "output_type": "stream",
          "text": [
            "Accuracy:  0.4953886568546295\n",
            "Precision:  0.7673709392547607\n",
            "Recall:  0.31800878047943115\n",
            "F1 Score:  0.4489719569683075\n"
          ]
        }
      ],
      "source": [
        "print(\"Accuracy: \",accuracy)\n",
        "print(\"Precision: \",precision)\n",
        "print(\"Recall: \",recall)\n",
        "print(\"F1 Score: \",f1)\n"
      ]
    },
    {
      "cell_type": "code",
      "execution_count": 82,
      "metadata": {},
      "outputs": [
        {
          "data": {
            "image/png": "[encoded data removed]",
            "text/plain": [
              "<IPython.core.display.Image object>"
            ]
          },
          "execution_count": 82,
          "metadata": {},
          "output_type": "execute_result"
        }
      ],
      "source": [
        "tf.keras.utils.plot_model(\n",
        "    model,\n",
        "    to_file='model.png',\n",
        "    show_shapes=True,\n",
        "    show_dtype=False,\n",
        "    show_layer_names=False,\n",
        "    rankdir='TB',\n",
        "    expand_nested=True,\n",
        "    dpi=96,\n",
        "    layer_range=None,\n",
        "    show_layer_activations=True\n",
        ")\n"
      ]
    },
    {
      "cell_type": "code",
      "execution_count": 84,
      "metadata": {
        "colab": {
          "base_uri": "https://localhost:8080/"
        },
        "id": "wyV5BTlItibD",
        "outputId": "d1942523-6b41-4e90-d9f3-fd194f44e236"
      },
      "outputs": [],
      "source": [
        "model.save(\"LSTM_Model_Final.h5\")"
      ]
    }
  ],
  "metadata": {
    "colab": {
      "provenance": []
    },
    "kernelspec": {
      "display_name": "Python 3.9.13 ('base')",
      "language": "python",
      "name": "python3"
    },
    "language_info": {
      "codemirror_mode": {
        "name": "ipython",
        "version": 3
      },
      "file_extension": ".py",
      "mimetype": "text/x-python",
      "name": "python",
      "nbconvert_exporter": "python",
      "pygments_lexer": "ipython3",
      "version": "3.9.13"
    },
    "orig_nbformat": 4,
    "vscode": {
      "interpreter": {
        "hash": "88033ea6e6aaf353f3d26ef69434bb9b1f089d6b00d896155ae24c39a5d92896"
      }
    }
  },
  "nbformat": 4,
  "nbformat_minor": 0
}
