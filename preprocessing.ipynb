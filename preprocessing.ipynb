{
 "cells": [
  {
   "cell_type": "code",
   "execution_count": 87,
   "metadata": {},
   "outputs": [
    {
     "name": "stderr",
     "output_type": "stream",
     "text": [
      "[nltk_data] Downloading package stopwords to\n",
      "[nltk_data]     C:\\Users\\pc\\AppData\\Roaming\\nltk_data...\n",
      "[nltk_data]   Package stopwords is already up-to-date!\n"
     ]
    }
   ],
   "source": [
    "import pandas as pd\n",
    "from googletrans import Translator\n",
    "import re\n",
    "import nltk\n",
    "from nltk.tokenize import word_tokenize\n",
    "nltk.download('stopwords')\n",
    "from nltk.corpus import stopwords\n",
    "import pyarabic.araby as araby\n"
   ]
  },
  {
   "cell_type": "code",
   "execution_count": 88,
   "metadata": {},
   "outputs": [],
   "source": [
    "# Read the dataset\n",
    "data = pd.read_excel('datasets/2018-E-c-Ar-train.xlsx')\n"
   ]
  },
  {
   "cell_type": "code",
   "execution_count": 89,
   "metadata": {},
   "outputs": [],
   "source": [
    "data_raw = data.copy()"
   ]
  },
  {
   "cell_type": "code",
   "execution_count": 90,
   "metadata": {},
   "outputs": [],
   "source": [
    "\n",
    "# Regular expression pattern to match any non-Arabic characters\n",
    "english_pattern = r'\\b[A-Za-z]+\\b'\n",
    "\n",
    "# Regular expression pattern to match any digits\n",
    "digits_pattern = r'\\d+'\n",
    "\n",
    "# Define a list of Arabic stop words to remove\n",
    "stop_words = set(stopwords.words('arabic'))\n"
   ]
  },
  {
   "cell_type": "code",
   "execution_count": 91,
   "metadata": {},
   "outputs": [],
   "source": [
    "def count_english_words(data):\n",
    "    # Tokenize the text into words\n",
    "    tokens = data['Tweet'].apply(word_tokenize)\n",
    "\n",
    "    # Filter out non-Arabic words using the regular expression\n",
    "    english_words = tokens.apply(lambda words: [word for word in words if re.match(english_pattern, word)])\n",
    "\n",
    "    # Count the occurrences of each Arabic word\n",
    "    english_words = pd.Series([word for words in english_words for word in words]).value_counts()\n",
    "\n",
    "    # Print the top 10 most frequent Arabic words\n",
    "    print(english_words.head(10))\n",
    "\n"
   ]
  },
  {
   "cell_type": "code",
   "execution_count": 92,
   "metadata": {},
   "outputs": [
    {
     "name": "stdout",
     "output_type": "stream",
     "text": [
      "AkramHosny         5\n",
      "feeling            3\n",
      "nadinenjeim        2\n",
      "mshinqiti          2\n",
      "D                  2\n",
      "lt                 2\n",
      "nowaaaash          1\n",
      "Idgix              1\n",
      "Nadaabdulwahab     1\n",
      "AsmaAlmuhannadi    1\n",
      "dtype: int64\n"
     ]
    }
   ],
   "source": [
    "count_english_words(data)"
   ]
  },
  {
   "cell_type": "code",
   "execution_count": 93,
   "metadata": {},
   "outputs": [],
   "source": [
    "data['Tweet'] = data['Tweet'].apply(lambda x: re.sub(english_pattern, '', x))"
   ]
  },
  {
   "cell_type": "code",
   "execution_count": 94,
   "metadata": {},
   "outputs": [
    {
     "name": "stdout",
     "output_type": "stream",
     "text": [
      "Series([], dtype: int64)\n"
     ]
    },
    {
     "name": "stderr",
     "output_type": "stream",
     "text": [
      "C:\\Users\\pc\\AppData\\Local\\Temp\\ipykernel_17396\\1444391590.py:9: FutureWarning: The default dtype for empty Series will be 'object' instead of 'float64' in a future version. Specify a dtype explicitly to silence this warning.\n",
      "  english_words = pd.Series([word for words in english_words for word in words]).value_counts()\n"
     ]
    }
   ],
   "source": [
    "count_english_words(data)"
   ]
  },
  {
   "cell_type": "code",
   "execution_count": 95,
   "metadata": {},
   "outputs": [],
   "source": [
    "def count_digits(data):\n",
    "    # Apply the regular expression pattern to each row of the \"tweet\" column and count the digits\n",
    "    digit_counts = data['Tweet'].apply(lambda x: len(re.findall(digits_pattern, x))).sum()\n",
    "\n",
    "    # Print the total count of digits in all tweets\n",
    "    print('Total digits count:', digit_counts)\n"
   ]
  },
  {
   "cell_type": "code",
   "execution_count": 96,
   "metadata": {},
   "outputs": [
    {
     "name": "stdout",
     "output_type": "stream",
     "text": [
      "Total digits count: 331\n"
     ]
    }
   ],
   "source": [
    "count_digits(data)"
   ]
  },
  {
   "cell_type": "code",
   "execution_count": 97,
   "metadata": {},
   "outputs": [],
   "source": [
    "# Apply the regular expression pattern to each row of the \"tweet\" column\n",
    "data['Tweet'] = data['Tweet'].apply(lambda x: re.sub(digits_pattern, '', x))"
   ]
  },
  {
   "cell_type": "code",
   "execution_count": 98,
   "metadata": {},
   "outputs": [
    {
     "name": "stdout",
     "output_type": "stream",
     "text": [
      "Total digits count: 0\n"
     ]
    }
   ],
   "source": [
    "count_digits(data)"
   ]
  },
  {
   "cell_type": "code",
   "execution_count": 99,
   "metadata": {},
   "outputs": [
    {
     "data": {
      "text/html": [
       "<div>\n",
       "<style scoped>\n",
       "    .dataframe tbody tr th:only-of-type {\n",
       "        vertical-align: middle;\n",
       "    }\n",
       "\n",
       "    .dataframe tbody tr th {\n",
       "        vertical-align: top;\n",
       "    }\n",
       "\n",
       "    .dataframe thead th {\n",
       "        text-align: right;\n",
       "    }\n",
       "</style>\n",
       "<table border=\"1\" class=\"dataframe\">\n",
       "  <thead>\n",
       "    <tr style=\"text-align: right;\">\n",
       "      <th></th>\n",
       "      <th>ID</th>\n",
       "      <th>Tweet</th>\n",
       "      <th>anger</th>\n",
       "      <th>anticipation</th>\n",
       "      <th>disgust</th>\n",
       "      <th>fear</th>\n",
       "      <th>joy</th>\n",
       "      <th>love</th>\n",
       "      <th>optimism</th>\n",
       "      <th>pessimism</th>\n",
       "      <th>sadness</th>\n",
       "      <th>surprise</th>\n",
       "      <th>trust</th>\n",
       "    </tr>\n",
       "  </thead>\n",
       "  <tbody>\n",
       "    <tr>\n",
       "      <th>0</th>\n",
       "      <td>2018-Ar-00259</td>\n",
       "      <td>ظلينا نتكلم ساعات ساعات رتبت فيها نفسي وبكيت ف...</td>\n",
       "      <td>1</td>\n",
       "      <td>0</td>\n",
       "      <td>0</td>\n",
       "      <td>1</td>\n",
       "      <td>0</td>\n",
       "      <td>0</td>\n",
       "      <td>0</td>\n",
       "      <td>1</td>\n",
       "      <td>1</td>\n",
       "      <td>0</td>\n",
       "      <td>0</td>\n",
       "    </tr>\n",
       "    <tr>\n",
       "      <th>1</th>\n",
       "      <td>2018-Ar-02696</td>\n",
       "      <td>كل سنه وانتي بخير ياقلبي وكل سنه وانتي سعيده ي...</td>\n",
       "      <td>0</td>\n",
       "      <td>0</td>\n",
       "      <td>0</td>\n",
       "      <td>0</td>\n",
       "      <td>1</td>\n",
       "      <td>1</td>\n",
       "      <td>1</td>\n",
       "      <td>0</td>\n",
       "      <td>0</td>\n",
       "      <td>0</td>\n",
       "      <td>0</td>\n",
       "    </tr>\n",
       "    <tr>\n",
       "      <th>2</th>\n",
       "      <td>2018-Ar-03596</td>\n",
       "      <td>البسطاء يمتلكون أرواح نادره جداتجدهم بمظهر متو...</td>\n",
       "      <td>0</td>\n",
       "      <td>0</td>\n",
       "      <td>0</td>\n",
       "      <td>0</td>\n",
       "      <td>0</td>\n",
       "      <td>1</td>\n",
       "      <td>1</td>\n",
       "      <td>0</td>\n",
       "      <td>0</td>\n",
       "      <td>0</td>\n",
       "      <td>0</td>\n",
       "    </tr>\n",
       "    <tr>\n",
       "      <th>3</th>\n",
       "      <td>2018-Ar-02999</td>\n",
       "      <td>مومعقول اللي قاعد يصير فيني هالايام يارب ماينت...</td>\n",
       "      <td>0</td>\n",
       "      <td>0</td>\n",
       "      <td>0</td>\n",
       "      <td>1</td>\n",
       "      <td>0</td>\n",
       "      <td>0</td>\n",
       "      <td>0</td>\n",
       "      <td>0</td>\n",
       "      <td>0</td>\n",
       "      <td>0</td>\n",
       "      <td>0</td>\n",
       "    </tr>\n",
       "    <tr>\n",
       "      <th>4</th>\n",
       "      <td>2018-Ar-02716</td>\n",
       "      <td>انا اكثر شخص متناقض بداخلي حب وكره وامل وقنوط ...</td>\n",
       "      <td>1</td>\n",
       "      <td>0</td>\n",
       "      <td>0</td>\n",
       "      <td>0</td>\n",
       "      <td>0</td>\n",
       "      <td>0</td>\n",
       "      <td>0</td>\n",
       "      <td>0</td>\n",
       "      <td>1</td>\n",
       "      <td>0</td>\n",
       "      <td>0</td>\n",
       "    </tr>\n",
       "  </tbody>\n",
       "</table>\n",
       "</div>"
      ],
      "text/plain": [
       "              ID                                              Tweet  anger  \\\n",
       "0  2018-Ar-00259  ظلينا نتكلم ساعات ساعات رتبت فيها نفسي وبكيت ف...      1   \n",
       "1  2018-Ar-02696  كل سنه وانتي بخير ياقلبي وكل سنه وانتي سعيده ي...      0   \n",
       "2  2018-Ar-03596  البسطاء يمتلكون أرواح نادره جداتجدهم بمظهر متو...      0   \n",
       "3  2018-Ar-02999  مومعقول اللي قاعد يصير فيني هالايام يارب ماينت...      0   \n",
       "4  2018-Ar-02716  انا اكثر شخص متناقض بداخلي حب وكره وامل وقنوط ...      1   \n",
       "\n",
       "   anticipation  disgust  fear  joy  love  optimism  pessimism  sadness  \\\n",
       "0             0        0     1    0     0         0          1        1   \n",
       "1             0        0     0    1     1         1          0        0   \n",
       "2             0        0     0    0     1         1          0        0   \n",
       "3             0        0     1    0     0         0          0        0   \n",
       "4             0        0     0    0     0         0          0        1   \n",
       "\n",
       "   surprise  trust  \n",
       "0         0      0  \n",
       "1         0      0  \n",
       "2         0      0  \n",
       "3         0      0  \n",
       "4         0      0  "
      ]
     },
     "execution_count": 99,
     "metadata": {},
     "output_type": "execute_result"
    }
   ],
   "source": [
    "data.head()"
   ]
  },
  {
   "cell_type": "code",
   "execution_count": 100,
   "metadata": {},
   "outputs": [],
   "source": [
    "# Define a function to remove stop words from each tweet\n",
    "def remove_stop_words(tweet):\n",
    "    tokens = word_tokenize(tweet)\n",
    "    filtered_tokens = [token for token in tokens if token not in stop_words]\n",
    "    return ' '.join(filtered_tokens)"
   ]
  },
  {
   "cell_type": "code",
   "execution_count": 101,
   "metadata": {},
   "outputs": [],
   "source": [
    "# Apply the function to each row of the \"tweet\" column\n",
    "data['Tweet'] = data['Tweet'].apply(remove_stop_words)"
   ]
  },
  {
   "cell_type": "code",
   "execution_count": 102,
   "metadata": {},
   "outputs": [],
   "source": [
    "# Define a function to removes Arabic Diacritics.\n",
    "def remove_diacritics(tweet):\n",
    "    return araby.strip_tashkeel(tweet)"
   ]
  },
  {
   "cell_type": "code",
   "execution_count": 103,
   "metadata": {},
   "outputs": [],
   "source": [
    "# Apply the function to each row of the \"tweet\" column\n",
    "data['Tweet'] = data['Tweet'].apply(remove_diacritics)"
   ]
  },
  {
   "cell_type": "code",
   "execution_count": 104,
   "metadata": {},
   "outputs": [],
   "source": [
    "# Define a function to normalize Arabic text\n",
    "def normalize_arabic(tweet):\n",
    "    # Normalize hamza and alef characters\n",
    "    tweet = araby.normalize_hamza(tweet)\n",
    "    tweet = araby.normalize_alef(tweet)\n",
    "    \n",
    "    return tweet"
   ]
  },
  {
   "cell_type": "code",
   "execution_count": 105,
   "metadata": {},
   "outputs": [],
   "source": [
    "# Apply the normalization function to each row of the \"tweet\" column\n",
    "data['Tweet'] = data['Tweet'].apply(normalize_arabic)"
   ]
  },
  {
   "cell_type": "code",
   "execution_count": 106,
   "metadata": {},
   "outputs": [],
   "source": [
    "def remove_emojis(text):\n",
    "    # Match all Unicode emojis and remove them\n",
    "    pattern = re.compile(\"[\\U0001F600-\\U0001F64F\\u2600-\\u26FF\\u2700-\\u27BF]+\")\n",
    "    return pattern.sub('', text)"
   ]
  },
  {
   "cell_type": "code",
   "execution_count": 107,
   "metadata": {},
   "outputs": [],
   "source": [
    "# Apply the normalization function to each row of the \"tweet\" column\n",
    "data['Tweet'] = data['Tweet'].apply(remove_emojis)"
   ]
  },
  {
   "cell_type": "code",
   "execution_count": null,
   "metadata": {},
   "outputs": [],
   "source": [
    "def remove_non_arabic(text):\n",
    "    # Match any character that is not in the Arabic Unicode block or is not a space character\n",
    "    pattern = re.compile('[^\\u0600-\\u06FF\\u0750-\\u077F\\u08A0-\\u08FF\\uFB50-\\uFDCF\\uFDF0-\\uFDFF\\uFE70-\\uFEFF ]+')\n",
    "    return pattern.sub('', text)"
   ]
  },
  {
   "cell_type": "code",
   "execution_count": 86,
   "metadata": {},
   "outputs": [],
   "source": [
    "# Remove non-Arabic characters from the \"tweet\" column\n",
    "data['Tweet'] = data['Tweet'].apply(remove_non_arabic)"
   ]
  },
  {
   "cell_type": "code",
   "execution_count": 84,
   "metadata": {},
   "outputs": [],
   "source": [
    "# save the DataFrame to an xlsx file\n",
    "data.to_excel('processed_data.xlsx', index=False)"
   ]
  }
 ],
 "metadata": {
  "kernelspec": {
   "display_name": "nlp_project",
   "language": "python",
   "name": "python3"
  },
  "language_info": {
   "codemirror_mode": {
    "name": "ipython",
    "version": 3
   },
   "file_extension": ".py",
   "mimetype": "text/x-python",
   "name": "python",
   "nbconvert_exporter": "python",
   "pygments_lexer": "ipython3",
   "version": "3.10.9"
  },
  "orig_nbformat": 4
 },
 "nbformat": 4,
 "nbformat_minor": 2
}
